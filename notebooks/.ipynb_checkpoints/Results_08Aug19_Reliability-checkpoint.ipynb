{
 "cells": [
  {
   "cell_type": "code",
   "execution_count": null,
   "metadata": {
    "collapsed": true
   },
   "outputs": [],
   "source": [
    "%matplotlib inline\n",
    "import matplotlib.pyplot as plt\n",
    "import numpy as np\n",
    "import scipy.io\n",
    "from scipy.stats import sem"
   ]
  },
  {
   "cell_type": "code",
   "execution_count": null,
   "metadata": {
    "collapsed": true
   },
   "outputs": [],
   "source": [
    "RES_DIR = \"/home/users/nclkong/documents/eeg_analyses/eeg_reliability/reliability/results/\"\n",
    "DATE = \"08Aug19\""
   ]
  },
  {
   "cell_type": "markdown",
   "metadata": {},
   "source": [
    "## Across Trials"
   ]
  },
  {
   "cell_type": "code",
   "execution_count": null,
   "metadata": {
    "collapsed": true
   },
   "outputs": [],
   "source": [
    "rel_trials_k = scipy.io.loadmat(RES_DIR + \"rel_trials_k_16_{}.mat\".format(DATE))[\"rel_trials\"].mean(axis=(0,2))\n",
    "sk = np.std(scipy.io.loadmat(RES_DIR + \"rel_trials_k_16_{}.mat\".format(DATE))[\"rel_trials\"].mean(axis=(2)), axis=0)\n",
    "\n",
    "rel_trials_p = scipy.io.loadmat(RES_DIR + \"rel_trials_p_16_{}.mat\".format(DATE))[\"rel_trials\"].mean(axis=(0,2))\n",
    "sp = np.std(scipy.io.loadmat(RES_DIR + \"rel_trials_p_16_{}.mat\".format(DATE))[\"rel_trials\"].mean(axis=(2)), axis=0)"
   ]
  },
  {
   "cell_type": "code",
   "execution_count": null,
   "metadata": {},
   "outputs": [],
   "source": [
    "trials = (np.arange(100)+1)*2\n",
    "\n",
    "fig = plt.figure(figsize=(9,5))\n",
    "ax = fig.add_subplot(111)\n",
    "ax.set_ylim([-0.15,0.75])\n",
    "\n",
    "plt.plot(trials, rel_trials_k, color='blue', label=\"Kaneshiro\")\n",
    "ax.fill_between(trials, rel_trials_k+sk, rel_trials_k-sk, color='blue', alpha=0.4)\n",
    "plt.plot(trials, rel_trials_p, color='red', label=\"Pantazis\")\n",
    "ax.fill_between(trials, rel_trials_p+sp, rel_trials_p-sp, color='red', alpha=0.4)\n",
    "\n",
    "plt.xlabel(\"Number of Trials (All Subjects)\")\n",
    "plt.ylabel(\"Reliability at 144 ms\")\n",
    "plt.legend(loc='upper left')"
   ]
  },
  {
   "cell_type": "markdown",
   "metadata": {},
   "source": [
    "## Across Time Per Subject"
   ]
  },
  {
   "cell_type": "code",
   "execution_count": null,
   "metadata": {},
   "outputs": [],
   "source": [
    "rel_time_k = scipy.io.loadmat(RES_DIR + \"all_subj_k_{}.mat\".format(DATE))[\"all_subj\"].mean(axis=(0,2,3))\n",
    "s = sem(scipy.io.loadmat(RES_DIR + \"all_subj_k_{}.mat\".format(DATE))[\"all_subj\"].mean(axis=(2,3)), axis=0)\n",
    "\n",
    "rel_time_p = scipy.io.loadmat(RES_DIR + \"all_subj_p_{}.mat\".format(DATE))[\"all_subj\"].mean(axis=(0,2,3))\n",
    "sp = sem(scipy.io.loadmat(RES_DIR + \"all_subj_p_{}.mat\".format(DATE))[\"all_subj\"].mean(axis=(2,3)), axis=0)"
   ]
  },
  {
   "cell_type": "code",
   "execution_count": null,
   "metadata": {
    "collapsed": true
   },
   "outputs": [],
   "source": [
    "time = np.linspace(-112,16*32,40)\n",
    "\n",
    "fig = plt.figure(figsize=(9,5))\n",
    "ax = fig.add_subplot(111)\n",
    "ax.set_ylim([-0.2,1.0])\n",
    "\n",
    "plt.plot(time, rel_time_k, color='blue', label=\"Kaneshiro\")\n",
    "ax.fill_between(time, rel_time_k+s, rel_time_k-s, color='blue', alpha=0.4)\n",
    "plt.plot(time, rel_time_p, color='red', label=\"Pantazis\")\n",
    "ax.fill_between(time, rel_time_p+sp, rel_time_p-sp, color='red', alpha=0.4)\n",
    "\n",
    "plt.xlabel(\"Time (ms)\")\n",
    "plt.ylabel(\"Reliability\")\n",
    "plt.legend()\n",
    "plt.axvline(0, color=\"grey\")"
   ]
  }
 ],
 "metadata": {
  "kernelspec": {
   "display_name": "Python 2",
   "language": "python",
   "name": "python2"
  },
  "language_info": {
   "codemirror_mode": {
    "name": "ipython",
    "version": 2
   },
   "file_extension": ".py",
   "mimetype": "text/x-python",
   "name": "python",
   "nbconvert_exporter": "python",
   "pygments_lexer": "ipython2",
   "version": "2.7.13"
  }
 },
 "nbformat": 4,
 "nbformat_minor": 2
}
